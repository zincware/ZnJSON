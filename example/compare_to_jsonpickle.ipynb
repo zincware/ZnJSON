{
 "cells": [
  {
   "cell_type": "code",
   "execution_count": 1,
   "metadata": {
    "collapsed": true
   },
   "outputs": [],
   "source": [
    "import json\n",
    "import sys\n",
    "\n",
    "import jsonpickle\n",
    "import numpy as np\n",
    "\n",
    "import znjson"
   ]
  },
  {
   "cell_type": "code",
   "execution_count": 2,
   "metadata": {
    "collapsed": false
   },
   "outputs": [],
   "source": [
    "data1 = {\"a\": np.arange(1000), \"b\": [x for x in range(100)]}\n",
    "data2 = {\"a\": np.random.normal(size=(16, 16, 16)), \"b\": [x / 3 for x in range(100)]}\n",
    "data3 = {f\"{x}\": np.random.normal(size=(x, x)) for x in range(30)}\n",
    "data4 = {\n",
    "    \"numpy\": np.array([1, 2, 3]),\n",
    "    \"list\": [1, 2, 3],\n",
    "    \"nested\": {\"numpy\": np.array([1, 2, 3]), \"list\": [1, 2, 3]},\n",
    "}"
   ]
  },
  {
   "cell_type": "markdown",
   "metadata": {
    "collapsed": false
   },
   "source": [
    "The following results are not affected by running one timeit before the other."
   ]
  },
  {
   "cell_type": "code",
   "execution_count": 3,
   "metadata": {
    "collapsed": false
   },
   "outputs": [
    {
     "name": "stdout",
     "output_type": "stream",
     "text": [
      "253 µs ± 53.8 µs per loop (mean ± std. dev. of 7 runs, 1,000 loops each)\n",
      "1.11 ms ± 128 µs per loop (mean ± std. dev. of 7 runs, 1,000 loops each)\n",
      "4.25 ms ± 861 µs per loop (mean ± std. dev. of 7 runs, 100 loops each)\n",
      "55.3 µs ± 11 µs per loop (mean ± std. dev. of 7 runs, 10,000 loops each)\n"
     ]
    }
   ],
   "source": [
    "%timeit json.dumps(data1, cls=znjson.ZnEncoder)\n",
    "%timeit json.dumps(data2, cls=znjson.ZnEncoder)\n",
    "%timeit json.dumps(data3, cls=znjson.ZnEncoder)\n",
    "%timeit json.dumps(data4, cls=znjson.ZnEncoder)"
   ]
  },
  {
   "cell_type": "code",
   "execution_count": 4,
   "metadata": {
    "collapsed": false
   },
   "outputs": [
    {
     "name": "stdout",
     "output_type": "stream",
     "text": [
      "736 µs ± 72.7 µs per loop (mean ± std. dev. of 7 runs, 1,000 loops each)\n",
      "1.65 ms ± 174 µs per loop (mean ± std. dev. of 7 runs, 1,000 loops each)\n",
      "8.57 ms ± 808 µs per loop (mean ± std. dev. of 7 runs, 100 loops each)\n",
      "734 µs ± 114 µs per loop (mean ± std. dev. of 7 runs, 1,000 loops each)\n"
     ]
    }
   ],
   "source": [
    "%timeit jsonpickle.dumps(data1)\n",
    "%timeit jsonpickle.dumps(data2)\n",
    "%timeit jsonpickle.dumps(data3)\n",
    "%timeit jsonpickle.dumps(data4)"
   ]
  },
  {
   "cell_type": "code",
   "execution_count": 5,
   "metadata": {
    "collapsed": false
   },
   "outputs": [
    {
     "name": "stdout",
     "output_type": "stream",
     "text": [
      "{\n",
      "  \"numpy\": {\n",
      "    \"_type\": \"np.ndarray_small\",\n",
      "    \"value\": [\n",
      "      1,\n",
      "      2,\n",
      "      3\n",
      "    ]\n",
      "  },\n",
      "  \"list\": [\n",
      "    1,\n",
      "    2,\n",
      "    3\n",
      "  ],\n",
      "  \"nested\": {\n",
      "    \"numpy\": {\n",
      "      \"_type\": \"np.ndarray_small\",\n",
      "      \"value\": [\n",
      "        1,\n",
      "        2,\n",
      "        3\n",
      "      ]\n",
      "    },\n",
      "    \"list\": [\n",
      "      1,\n",
      "      2,\n",
      "      3\n",
      "    ]\n",
      "  }\n",
      "}\n"
     ]
    }
   ],
   "source": [
    "print(json.dumps(data4, cls=znjson.ZnEncoder, indent=2))"
   ]
  },
  {
   "cell_type": "code",
   "execution_count": 6,
   "metadata": {
    "collapsed": false
   },
   "outputs": [
    {
     "name": "stdout",
     "output_type": "stream",
     "text": [
      "{\n",
      "  \"numpy\": {\n",
      "    \"py/reduce\": [\n",
      "      {\n",
      "        \"py/function\": \"numpy.core.multiarray._reconstruct\"\n",
      "      },\n",
      "      {\n",
      "        \"py/tuple\": [\n",
      "          {\n",
      "            \"py/type\": \"numpy.ndarray\"\n",
      "          },\n",
      "          {\n",
      "            \"py/tuple\": [\n",
      "              0\n",
      "            ]\n",
      "          },\n",
      "          {\n",
      "            \"py/b64\": \"Yg==\"\n",
      "          }\n",
      "        ]\n",
      "      },\n",
      "      {\n",
      "        \"py/tuple\": [\n",
      "          1,\n",
      "          {\n",
      "            \"py/tuple\": [\n",
      "              3\n",
      "            ]\n",
      "          },\n",
      "          {\n",
      "            \"py/reduce\": [\n",
      "              {\n",
      "                \"py/type\": \"numpy.dtype\"\n",
      "              },\n",
      "              {\n",
      "                \"py/tuple\": [\n",
      "                  \"i4\",\n",
      "                  false,\n",
      "                  true\n",
      "                ]\n",
      "              },\n",
      "              {\n",
      "                \"py/tuple\": [\n",
      "                  3,\n",
      "                  \"<\",\n",
      "                  null,\n",
      "                  null,\n",
      "                  null,\n",
      "                  -1,\n",
      "                  -1,\n",
      "                  0\n",
      "                ]\n",
      "              }\n",
      "            ]\n",
      "          },\n",
      "          false,\n",
      "          {\n",
      "            \"py/b64\": \"AQAAAAIAAAADAAAA\"\n",
      "          }\n",
      "        ]\n",
      "      }\n",
      "    ]\n",
      "  },\n",
      "  \"list\": [\n",
      "    1,\n",
      "    2,\n",
      "    3\n",
      "  ],\n",
      "  \"nested\": {\n",
      "    \"numpy\": {\n",
      "      \"py/reduce\": [\n",
      "        {\n",
      "          \"py/function\": \"numpy.core.multiarray._reconstruct\"\n",
      "        },\n",
      "        {\n",
      "          \"py/tuple\": [\n",
      "            {\n",
      "              \"py/type\": \"numpy.ndarray\"\n",
      "            },\n",
      "            {\n",
      "              \"py/tuple\": [\n",
      "                0\n",
      "              ]\n",
      "            },\n",
      "            {\n",
      "              \"py/b64\": \"Yg==\"\n",
      "            }\n",
      "          ]\n",
      "        },\n",
      "        {\n",
      "          \"py/tuple\": [\n",
      "            1,\n",
      "            {\n",
      "              \"py/tuple\": [\n",
      "                3\n",
      "              ]\n",
      "            },\n",
      "            {\n",
      "              \"py/id\": 2\n",
      "            },\n",
      "            false,\n",
      "            {\n",
      "              \"py/b64\": \"AQAAAAIAAAADAAAA\"\n",
      "            }\n",
      "          ]\n",
      "        }\n",
      "      ]\n",
      "    },\n",
      "    \"list\": [\n",
      "      1,\n",
      "      2,\n",
      "      3\n",
      "    ]\n",
      "  }\n",
      "}\n"
     ]
    }
   ],
   "source": [
    "print(jsonpickle.dumps(data4, indent=2))"
   ]
  },
  {
   "cell_type": "code",
   "execution_count": 7,
   "metadata": {
    "collapsed": false
   },
   "outputs": [
    {
     "name": "stdout",
     "output_type": "stream",
     "text": [
      "6141\n",
      "45615\n",
      "98708\n",
      "732\n"
     ]
    }
   ],
   "source": [
    "print(sys.getsizeof(jsonpickle.dumps(data1)))\n",
    "print(sys.getsizeof(jsonpickle.dumps(data2)))\n",
    "print(sys.getsizeof(jsonpickle.dumps(data3)))\n",
    "print(sys.getsizeof(jsonpickle.dumps(data4)))"
   ]
  },
  {
   "cell_type": "code",
   "execution_count": 8,
   "metadata": {
    "collapsed": false
   },
   "outputs": [
    {
     "name": "stdout",
     "output_type": "stream",
     "text": [
      "5995\n",
      "45467\n",
      "97859\n",
      "219\n"
     ]
    }
   ],
   "source": [
    "print(sys.getsizeof(json.dumps(data1, cls=znjson.ZnEncoder)))\n",
    "print(sys.getsizeof(json.dumps(data2, cls=znjson.ZnEncoder)))\n",
    "print(sys.getsizeof(json.dumps(data3, cls=znjson.ZnEncoder)))\n",
    "print(sys.getsizeof(json.dumps(data4, cls=znjson.ZnEncoder)))"
   ]
  }
 ],
 "metadata": {
  "kernelspec": {
   "display_name": "Python 3",
   "language": "python",
   "name": "python3"
  },
  "language_info": {
   "codemirror_mode": {
    "name": "ipython",
    "version": 2
   },
   "file_extension": ".py",
   "mimetype": "text/x-python",
   "name": "python",
   "nbconvert_exporter": "python",
   "pygments_lexer": "ipython2",
   "version": "2.7.6"
  }
 },
 "nbformat": 4,
 "nbformat_minor": 0
}
