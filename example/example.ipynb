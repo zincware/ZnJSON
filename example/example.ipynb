{
 "cells": [
  {
   "cell_type": "code",
   "execution_count": 1,
   "metadata": {
    "tags": []
   },
   "outputs": [],
   "source": [
    "import numpy as np\n",
    "import json\n",
    "import znjson"
   ]
  },
  {
   "cell_type": "markdown",
   "metadata": {},
   "source": [
    "1. You can register / deregister `znjson.converter`. By default all available converters will be registered."
   ]
  },
  {
   "cell_type": "code",
   "execution_count": 2,
   "metadata": {},
   "outputs": [
    {
     "data": {
      "text/plain": "[znjson.converter.numpy_converter_small.NumpyConverterSmall,\n znjson.converter.numpy_converter_base64.NumpyConverter,\n znjson.converter.pathlib_converter.PathlibConverter,\n znjson.converter.class_converter.ClassConverter]"
     },
     "execution_count": 2,
     "metadata": {},
     "output_type": "execute_result"
    }
   ],
   "source": [
    "znjson.config.ACTIVE_CONVERTER"
   ]
  },
  {
   "cell_type": "markdown",
   "metadata": {},
   "source": [
    "2. Create some example data"
   ]
  },
  {
   "cell_type": "code",
   "execution_count": 3,
   "metadata": {},
   "outputs": [],
   "source": [
    "example_data = {\"data_np\": np.arange(2), \"data\": [x for x in range(5)]}"
   ]
  },
  {
   "cell_type": "markdown",
   "metadata": {},
   "source": [
    "3. Dump data to with json"
   ]
  },
  {
   "cell_type": "code",
   "execution_count": 4,
   "metadata": {},
   "outputs": [
    {
     "name": "stdout",
     "output_type": "stream",
     "text": [
      "{\n",
      "    \"data_np\": {\n",
      "        \"_type\": \"np.ndarray_small\",\n",
      "        \"value\": [\n",
      "            0,\n",
      "            1\n",
      "        ]\n",
      "    },\n",
      "    \"data\": [\n",
      "        0,\n",
      "        1,\n",
      "        2,\n",
      "        3,\n",
      "        4\n",
      "    ]\n",
      "}\n"
     ]
    }
   ],
   "source": [
    "data_dump = json.dumps(\n",
    "    obj=example_data,\n",
    "    cls=znjson.ZnEncoder,\n",
    "    indent=4\n",
    ")\n",
    "print(data_dump)"
   ]
  },
  {
   "cell_type": "markdown",
   "metadata": {},
   "source": [
    "4. Load Dump"
   ]
  },
  {
   "cell_type": "code",
   "execution_count": 5,
   "metadata": {},
   "outputs": [
    {
     "name": "stdout",
     "output_type": "stream",
     "text": [
      "{'data_np': array([0, 1]), 'data': [0, 1, 2, 3, 4]}\n"
     ]
    }
   ],
   "source": [
    "data_loaded = json.loads(data_dump, cls=znjson.ZnDecoder)\n",
    "print(data_loaded)"
   ]
  }
 ],
 "metadata": {
  "kernelspec": {
   "display_name": "Python 3 (ipykernel)",
   "language": "python",
   "name": "python3"
  },
  "language_info": {
   "codemirror_mode": {
    "name": "ipython",
    "version": 3
   },
   "file_extension": ".py",
   "mimetype": "text/x-python",
   "name": "python",
   "nbconvert_exporter": "python",
   "pygments_lexer": "ipython3",
   "version": "3.9.7"
  }
 },
 "nbformat": 4,
 "nbformat_minor": 4
}
