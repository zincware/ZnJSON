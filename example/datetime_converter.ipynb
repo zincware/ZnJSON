{
 "cells": [
  {
   "cell_type": "markdown",
   "metadata": {
    "collapsed": false
   },
   "source": [
    "# Write a custom Converter\n",
    "\n",
    "In this Example we will write a custom converter for `datetime` objects."
   ]
  },
  {
   "cell_type": "code",
   "execution_count": 1,
   "metadata": {
    "collapsed": false
   },
   "outputs": [],
   "source": [
    "import json\n",
    "from datetime import datetime\n",
    "\n",
    "import znjson\n",
    "from znjson import ConverterBase"
   ]
  },
  {
   "cell_type": "code",
   "execution_count": 2,
   "metadata": {
    "collapsed": false
   },
   "outputs": [
    {
     "name": "stdout",
     "output_type": "stream",
     "text": [
      "2022-09-28 15:30:17.316215\n"
     ]
    }
   ],
   "source": [
    "dt = datetime.now()\n",
    "print(dt)"
   ]
  },
  {
   "cell_type": "code",
   "execution_count": 3,
   "metadata": {
    "collapsed": false
   },
   "outputs": [],
   "source": [
    "class DatetimeConverter(ConverterBase):\n",
    "    \"\"\"Encode/Decode datetime objects\n",
    "\n",
    "    Attributes\n",
    "    ----------\n",
    "    level: int\n",
    "        Priority of this converter over others.\n",
    "        A higher level will be used first, if there\n",
    "        are multiple converters available\n",
    "    representation: str\n",
    "        An unique identifier for this converter.\n",
    "    instance:\n",
    "        Used to select the correct converter.\n",
    "        This should fulfill isinstance(other, self.instance)\n",
    "        or __eq__ should be overwritten.\n",
    "    \"\"\"\n",
    "    level = 100\n",
    "    representation = \"datetime\"\n",
    "    instance = datetime\n",
    "\n",
    "    def encode(self, obj: datetime) -> str:\n",
    "        \"\"\"Convert the datetime object to str / isoformat\"\"\"\n",
    "        return obj.isoformat()\n",
    "    def decode(self, value: str) -> datetime:\n",
    "        \"\"\"Create datetime object from str / isoformat\"\"\"\n",
    "        return datetime.fromisoformat(value)"
   ]
  },
  {
   "cell_type": "markdown",
   "metadata": {
    "collapsed": false
   },
   "source": [
    "To use the new converter we have to add it to `znjson.config.ACTIVE_CONVERTERS` via `znjson.register()`"
   ]
  },
  {
   "cell_type": "code",
   "execution_count": 4,
   "metadata": {
    "collapsed": false
   },
   "outputs": [],
   "source": [
    "znjson.config.register(DatetimeConverter)"
   ]
  },
  {
   "cell_type": "code",
   "execution_count": 5,
   "metadata": {
    "collapsed": false
   },
   "outputs": [
    {
     "name": "stdout",
     "output_type": "stream",
     "text": [
      "{\n",
      "    \"_type\": \"datetime\",\n",
      "    \"value\": \"2022-09-28T15:30:17.316215\"\n",
      "}\n"
     ]
    }
   ],
   "source": [
    "json_string = json.dumps(dt, cls=znjson.ZnEncoder, indent=4)\n",
    "print(json_string)"
   ]
  },
  {
   "cell_type": "code",
   "execution_count": 6,
   "metadata": {
    "collapsed": false
   },
   "outputs": [
    {
     "data": {
      "text/plain": "datetime.datetime(2022, 9, 28, 15, 30, 17, 316215)"
     },
     "execution_count": 6,
     "metadata": {},
     "output_type": "execute_result"
    }
   ],
   "source": [
    "json.loads(json_string, cls=znjson.ZnDecoder)"
   ]
  }
 ],
 "metadata": {
  "kernelspec": {
   "display_name": "Python 3",
   "language": "python",
   "name": "python3"
  },
  "language_info": {
   "codemirror_mode": {
    "name": "ipython",
    "version": 2
   },
   "file_extension": ".py",
   "mimetype": "text/x-python",
   "name": "python",
   "nbconvert_exporter": "python",
   "pygments_lexer": "ipython2",
   "version": "2.7.6"
  }
 },
 "nbformat": 4,
 "nbformat_minor": 0
}
